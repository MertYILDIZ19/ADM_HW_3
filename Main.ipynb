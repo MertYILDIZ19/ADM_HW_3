{
 "cells": [
  {
   "cell_type": "markdown",
   "metadata": {},
   "source": [
    "# ADM HW_3\n",
    "\n",
    "##### Mert YILDIZ / Nello Castaldo / Luca Avitabile\n",
    "\n",
    "\n",
    "\n",
    "## Q-1. Data collection"
   ]
  },
  {
   "cell_type": "markdown",
   "metadata": {},
   "source": [
    "### 1.1. Get the list of books"
   ]
  },
  {
   "cell_type": "markdown",
   "metadata": {},
   "source": [
    "#### In the following chunk you will find libraries needed for the execution of the code "
   ]
  },
  {
   "cell_type": "code",
   "execution_count": 8,
   "metadata": {},
   "outputs": [],
   "source": [
    "from bs4 import BeautifulSoup as soup\n",
    "import requests\n",
    "import time\n",
    "import urllib.request\n",
    "import urllib.error as uer\n",
    "from pathlib import Path\n",
    "from lxml import etree, html\n",
    "import regex as re\n",
    "import csv\n",
    "import pandas as pd\n",
    "from langdetect import detect\n",
    "from tqdm import tqdm\n",
    "import nltk\n",
    "import io \n",
    "import codecs\n",
    "from nltk.corpus import stopwords \n",
    "from nltk.tokenize import word_tokenize \n",
    "from nltk import stem\n",
    "from string import punctuation\n",
    "import numpy as np\n",
    "from sklearn.feature_extraction.text import TfidfVectorizer\n",
    "from sklearn.feature_extraction.text import CountVectorizer\n",
    "from sklearn.metrics.pairwise import cosine_similarity\n",
    "import ast\n",
    "from collections import Counter\n",
    "import heapq\n",
    "import math\n",
    "from scipy import spatial"
   ]
  },
  {
   "cell_type": "markdown",
   "metadata": {},
   "source": [
    "#### in the following chunck we obtained the complete list of the 300 pages from which we took every 30 thousand book"
   ]
  },
  {
   "cell_type": "code",
   "execution_count": 9,
   "metadata": {},
   "outputs": [
    {
     "name": "stderr",
     "output_type": "stream",
     "text": [
      "100%|██████████████████████████████████████████████████████████████████████████████████| 4/4 [00:00<00:00, 7825.19it/s]\n",
      "100%|████████████████████████████████████████████████████████████████████████████████████| 4/4 [00:24<00:00,  6.12s/it]\n",
      "100%|████████████████████████████████████████████████████████████████████████████| 400/400 [00:00<00:00, 240878.91it/s]\n"
     ]
    }
   ],
   "source": [
    "url_rank = []\n",
    "for i in tqdm(range(1,301)):\n",
    "    url_rank.append('https://www.goodreads.com/list/show/1.Best_Books_Ever?page={}'.format(i))\n",
    "\n",
    "string_for_parsing = 'https://www.goodreads.com' #url of the site\n",
    "\n",
    "link_to_download = []\n",
    "for num_page in tqdm(url_rank):\n",
    "    book_prova  = requests.get(num_page)\n",
    "    page = soup(book_prova.text, 'html.parser')\n",
    "    domenica = page.find_all('a', {'class' : 'bookTitle'})\n",
    "    for item in domenica:\n",
    "        link_to_download.append(string_for_parsing+item['href'])\n",
    "\n",
    "#write txt file \n",
    "with open('urls.txt', 'w') as f:\n",
    "    for item in tqdm(link_to_download):\n",
    "        f.write(\"%s\\n\" % item)"
   ]
  },
  {
   "cell_type": "markdown",
   "metadata": {},
   "source": [
    "### 1.2. Crawl books"
   ]
  },
  {
   "cell_type": "code",
   "execution_count": 11,
   "metadata": {},
   "outputs": [
    {
     "name": "stdout",
     "output_type": "stream",
     "text": [
      "1\n"
     ]
    }
   ],
   "source": [
    "Path(\"directory\").mkdir(exist_ok=True)\n",
    "\n",
    "for i in range(1,4):\n",
    "    FolderName = 'folder{}'.format(i)\n",
    "    Path(FolderName).mkdir(exist_ok=True) #with this line we create folders for storing html files \n",
    "    \n",
    "def download_html():\n",
    "    id = int(input())  #we split download in 3 parts to work in parallel\n",
    "                        #Luca = 1  #Mert = 2  #Nello = 3\n",
    "    if id ==1:\n",
    "        a = 0\n",
    "        b = 10\n",
    "        i = 0\n",
    "    elif id ==2:\n",
    "        a = 11900\n",
    "        b = 20000\n",
    "        i = 99\n",
    "    elif id == 3:\n",
    "        a = 20000\n",
    "        b = 30000\n",
    "        i = 199\n",
    "    \n",
    "    for url in range(a,b):\n",
    "        \n",
    "        if url == 0 or url%100 == 0:\n",
    "            i += 1\n",
    "            folder_name = 'html_books_{}'.format(i)\n",
    "            Path(folder_name).mkdir(exist_ok=True)  #with this line we create folders for storing html files \n",
    "        urllib.request.urlretrieve(link_to_download[url], 'html_books_{}/article_{}.html'.format(i,url+1))\n",
    "        \n",
    "download_html()"
   ]
  },
  {
   "cell_type": "markdown",
   "metadata": {},
   "source": [
    "### 1.3 Parse downloaded pages"
   ]
  },
  {
   "cell_type": "markdown",
   "metadata": {},
   "source": [
    "#### In this chunck is reported the code of the funtion which write tsv files from html files useful for search engines"
   ]
  },
  {
   "cell_type": "code",
   "execution_count": null,
   "metadata": {},
   "outputs": [],
   "source": [
    "def tsv_writer():\n",
    "    \n",
    "    print('Insert Path ')  #we grouped every pages' folders in a single folder to make every file more tidy in our pc\n",
    "    \n",
    "    path = input()\n",
    "    \n",
    "    print('Insert directory')  #first part of the name of each folder\n",
    "    \n",
    "    directory = input()\n",
    "    \n",
    "    count_error = []\n",
    "    \n",
    "    for j in range(0,301):  #in this for loop we take every book of every page\n",
    "        a = 1 + 100*(j)\n",
    "        b = 101 + 100*(j)\n",
    "        for k in range(a,b):\n",
    "            \n",
    "            try: #we applied this try/except because some html files are corrupted or missed\n",
    "\n",
    "                HtmlFile = open(path+'/'+directory+str(j)+'/article_{}.html'.format(k), 'r', encoding='utf-8')\n",
    "\n",
    "                source_code = HtmlFile.read()  #code to go into the html page\n",
    "\n",
    "                book = soup(source_code, 'html.parser')  #using beautiful soup\n",
    "                \n",
    "#now we take every single info needed using the path wrote in html document                \n",
    "\n",
    "                book_title = book.find('h1',{'id':'bookTitle'}).contents[0].strip()\n",
    "\n",
    "                book_series = book.find('h2',{'id':'bookSeries'})\n",
    "\n",
    "                if book_series.text.strip() == '':\n",
    "                    series = ''\n",
    "                else:\n",
    "                    series = book_series.contents[1].contents[0].strip()\n",
    "\n",
    "                author = book.find('span',{'itemprop':'name'}).contents[0]\n",
    "\n",
    "                rating = float(book.find('span',{'itemprop':'ratingValue'}).contents[0].strip())\n",
    "\n",
    "                number_of_rating = int(book.find('meta',{'itemprop':'ratingCount'}).contents[0].split()[0].replace(',',''))\n",
    "\n",
    "                review_count = int(book.find('meta',{'itemprop':'reviewCount'})['content'])\n",
    "\n",
    "                number_of_pages = int(book.find('span',{'itemprop':'numberOfPages'}).contents[0].split()[0])\n",
    "\n",
    "                publishing_date = book.find('div',{'class':'row'}).find_next_sibling().contents[0].split()[1:4]\n",
    "\n",
    "                plot = book.find('div',{'id':'description'})\n",
    "                \n",
    "                try:     #we needed this try/except because some book hasn't the plot            \n",
    "                \n",
    "                    complete_plot = plot.find_all('span')\n",
    "                    \n",
    "                    if detect(str(complete_plot)) != 'en':\n",
    "                        continue\n",
    "                \n",
    "                except: \n",
    "                    \n",
    "                    complete_plot = ''\n",
    "                    \n",
    "\n",
    "                details = book.find('div',{'id':'bookDataBox'})\n",
    "\n",
    "                places = details.find_all('a', {'href': re.compile(r'/places')})\n",
    "\n",
    "                settings = ''\n",
    "                for item in places:\n",
    "                    settings += item.text+','\n",
    "\n",
    "\n",
    "                character_sw = details.find_all('a', {'href': re.compile(r'/characters')})\n",
    "\n",
    "                character = ''\n",
    "                for item in character_sw:\n",
    "                    character+= item.text+','\n",
    "            \n",
    "            except:\n",
    "                \n",
    "                count_error.append((a,j))\n",
    "                \n",
    "                continue\n",
    "\n",
    "\n",
    "            with open('books_tsv/article_{}.tsv'.format(k), 'wt', encoding=\"utf-8\") as out_file:\n",
    "                    tsv_writer = csv.writer(out_file, delimiter='\\t')\n",
    "                    tsv_writer.writerow(['book_title','book_series','author','rating','number_of_rating',\n",
    "                                         'review_count','number_of_pages','publishing_date','complete_plot','places','characters'])\n",
    "                    tsv_writer.writerow([book_title,series,author,rating,number_of_rating,review_count,number_of_pages,\n",
    "                                        publishing_date,complete_plot,settings,character])                    \n"
   ]
  },
  {
   "cell_type": "code",
   "execution_count": 20,
   "metadata": {},
   "outputs": [
    {
     "name": "stdout",
     "output_type": "stream",
     "text": [
      "Insert Path \n",
      "books\n",
      "Insert directory\n",
      "html_books_\n"
     ]
    }
   ],
   "source": [
    "tsv_writer()  #comand to lunch the function"
   ]
  },
  {
   "cell_type": "markdown",
   "metadata": {},
   "source": [
    "# 2. Search Engine"
   ]
  },
  {
   "cell_type": "markdown",
   "metadata": {},
   "source": [
    "Now, we want to create two different Search Engines that, given as input a query, return the books that match the query.\n",
    "\n",
    "First, we have pre-processed all the information collected for each book by\n",
    "\n",
    "* Removing stopwords\n",
    "* Removing punctuation\n",
    "* Stemming\n"
   ]
  },
  {
   "cell_type": "code",
   "execution_count": 2,
   "metadata": {},
   "outputs": [],
   "source": [
    "def cleaner(text):\n",
    "\n",
    "    words = re.split(r'\\W+', str(text))   #split the text\n",
    "    words = [word.lower() for word in words]  #convert words to lower \n",
    "    without_punct = [wp for wp in words if wp not in punctuation] #remove punctuation\n",
    "    sw = stopwords.words('english')  #define stopwords\n",
    "    without_sw = [w for w in without_punct if w not in sw]  #remove stopwords \n",
    "    list_to_remove = ['b','br','span', 'one' , 'id', 'none' ] # define other unwanted words \n",
    "    clean_more = [w for w in without_sw if w not in list_to_remove] # remove them\n",
    "    clean_more_2 = [w for w in clean_more if  not (re.findall(re.compile(r'freetext'),w)\n",
    "                                                   or re.findall(re.compile(r'\\d'),w)) ]  #remove some tags that were not properly removed\n",
    "    \n",
    "    \n",
    "    ps = nltk.stem.PorterStemmer()\n",
    "    stemmed_list=[ps.stem(w) for w in clean_more_2 ]  # stemming\n",
    "    return ' '.join(stemmed_list) # merge all the words in the list and return a string "
   ]
  },
  {
   "cell_type": "markdown",
   "metadata": {},
   "source": [
    "### 2.1. Conjunctive query\n",
    "\n",
    "#### 2.1.1) Create your index!\n",
    "\n",
    "Before building the index,\n",
    "\n",
    "We have created a file named vocabulary, in the .csv format, that maps each word to an integer (term_id).\n",
    "Then, the first brick of the homework is to create the Inverted Index. It will be a dictionary of this format:\n",
    "\n",
    "{\n",
    "\n",
    "term_id_1:[document_1, document_2, document_4],\n",
    "\n",
    "term_id_2:[document_1, document_3, document_5, document_6],\n",
    "\n",
    "...}\n",
    "\n",
    "where document_i is the id of a document that contains the word."
   ]
  },
  {
   "cell_type": "code",
   "execution_count": 107,
   "metadata": {},
   "outputs": [],
   "source": [
    "text=''  # string for all the books strings \n",
    "for books in range(1,30001): \n",
    "    text_1='' # string for each book string\n",
    "    try:\n",
    "        df = pd.read_csv(\"books_3_tsv/article_\"+str(books)+\".tsv\", sep='\\t', encoding='utf-8' ) # read tsv file of book\n",
    "    except:\n",
    "        continue\n",
    "    df = df.fillna(\"\")  #fill nan info \n",
    "    df['book_title']=df['book_title'].apply(cleaner)  # clean the title\n",
    "    df['complete_plot']=df['complete_plot'].apply(cleaner) #clean the plot \n",
    "    \n",
    "\n",
    "    #df.to_csv('cleaned_csv/prova_libro_'+str(books)+'.csv') # create new cleaned csv using this line, run only once\n",
    "    \n",
    "    #now create the vocabulary\n",
    "    \n",
    "    title = df.iloc[0, 0]  #get the title \n",
    "    plot = df.iloc[0, 8] #get the plot\n",
    "    text = text + \" \" + title + \" \" + plot # update final string \n",
    "    text_1 = title + \" \" + plot #update  local string \n",
    "    arr_1=set(text_1.split()) #create a set from the local splitted string \n",
    "    file = open(\"txt_files/article_\"+str(books)+\".txt\", \"w\") #create a txt file for each book that contains the set \n",
    "    file.write(str(arr_1))  #write the file\n",
    "    file.close()  #close the file \n",
    "\n",
    "arr = set(text.split()) # use set to eliminate repeating words from final string \n",
    "vocab = pd.DataFrame(arr) # create a dataframe from the set \n",
    "vocab.to_csv(\"vocab.csv\") #save vocabulary as csv with indices for each vocab"
   ]
  },
  {
   "cell_type": "code",
   "execution_count": 7,
   "metadata": {},
   "outputs": [],
   "source": [
    "df_voc= pd.read_csv('vocab.csv')  # read the vocabulary just created \n",
    "\n",
    "df_voc.columns=['id','word'] # change columns names\n",
    "\n",
    "d = defaultdict(set) # create a new defaultdict to save the iverted index "
   ]
  },
  {
   "cell_type": "markdown",
   "metadata": {},
   "source": [
    "### Inverted index "
   ]
  },
  {
   "cell_type": "code",
   "execution_count": 13,
   "metadata": {},
   "outputs": [],
   "source": [
    "def extract_words_2(id): # read the txt files of the documents \n",
    "    try:\n",
    "        \n",
    "        file = open(\"txt_files/article_\"+str(doc)+ \".txt\", \"r\") \n",
    "        test=ast.literal_eval(file.read()) #evaluate the set in the txt file \n",
    "        file.close()\n",
    "        return test #return the set evaluated \n",
    "    except:\n",
    "        return [] #return empty list if some errors occur"
   ]
  },
  {
   "cell_type": "code",
   "execution_count": 37,
   "metadata": {},
   "outputs": [],
   "source": [
    "for doc in range(1,30001): #fill the inverted index \n",
    "    test=extract_words_2(doc) # get the book set of words \n",
    "    for item in test: \n",
    "       \n",
    "        d[item].add(doc)  #update the list of documents of word 'item'\n",
    "    \n",
    "\n",
    "dic_keys=d.keys()  #words in the inverted index \n",
    "new_dic=defaultdict(set) #new inverted index to translate word into id\n",
    "for item in dic_keys: \n",
    "    try:\n",
    "        new_key=df_voc[df_voc.word==item].id.iloc[0] # get the id of the word from vocabulary\n",
    "        new_dic[new_key]=d[item] # copy the list of documents in the new inverted index with id as key\n",
    "    except:\n",
    "        continue\n",
    "\n",
    "file = open(\"inverted_index_1.txt\", \"w\")  #save inverted index as txt file \n",
    "file.write(str(new_dic))\n",
    "file.close() "
   ]
  },
  {
   "cell_type": "markdown",
   "metadata": {},
   "source": [
    "### 2.1.2) Execute the query"
   ]
  },
  {
   "cell_type": "code",
   "execution_count": 299,
   "metadata": {},
   "outputs": [],
   "source": [
    "def search_query():\n",
    "    query= str(input('Insert the query ')) #ask for the query\n",
    "    final_query=cleaner(query) # preprocess the query\n",
    "    word_list=final_query.split() #get the list of words of the query\n",
    "    key_list=[] # list to save id of the words in the query\n",
    "    for word in word_list:\n",
    "        key=df_voc[df_voc.word==word].id.iloc[0] #get id of each word  from vocabulary\n",
    "        key_list.append(key) #add to key_list\n",
    "    try:\n",
    "        result=new_dic[key_list[0]] #get the list of documents of first word of the query\n",
    "    except:\n",
    "        print('No results found')\n",
    "        return [] #if key_list is empty return an empty list\n",
    "    for item in key_list: # execute the intersection between all the lists of documents \n",
    "        result=result.intersection(new_dic[item]) #update result with intersection\n",
    "        \n",
    "    return result #return the documents that contains all the words of the query"
   ]
  },
  {
   "cell_type": "code",
   "execution_count": 317,
   "metadata": {},
   "outputs": [
    {
     "name": "stdout",
     "output_type": "stream",
     "text": [
      "Insert the query winnie\n"
     ]
    }
   ],
   "source": [
    "books=search_query()  #call the function and save the result in books"
   ]
  },
  {
   "cell_type": "code",
   "execution_count": 351,
   "metadata": {},
   "outputs": [],
   "source": [
    "def find_link(index): #given the doc index return the link \n",
    "    ind=str(index) \n",
    "   \n",
    "    folder= math.floor((index-1) /100) # find the folder that contains the html file of the book\n",
    "    HtmlFile = open('books_3/html_books_'+str(folder)+'/article_{}.html'.format(ind), 'r', encoding='utf-8') #open the file \n",
    "    source_code = HtmlFile.read() #read it \n",
    "\n",
    "    book = soup(source_code, 'html.parser') # parse the content of the file \n",
    "\n",
    "    book_link = book.find('link') # find the link in link element \n",
    "    \n",
    "    return book_link['href'] #return the value of href attribute "
   ]
  },
  {
   "cell_type": "code",
   "execution_count": 352,
   "metadata": {},
   "outputs": [
    {
     "name": "stdout",
     "output_type": "stream",
     "text": [
      "Walt Disney's Winnie-the-Pooh and the Honey Patch : nan https://www.goodreads.com/book/show/6394554-walt-disney-s-winnie-the-pooh-and-the-honey-patch\n",
      "\n",
      "\n",
      "\n",
      "\n",
      "A Dragon's Guide to the Care and Feeding of Humans :  Crusty dragon Miss Drake has a new pet human precocious Winnie Oddly enough Winnie seems to think Miss Drake is her pet a ridiculous notion Unknown to most of its inhabitants the City by the Bay is home to many mysterious and fantastic creatures hidden beneath the parks among the clouds and even in plain sight And Winnie wants to draw every new creature she encoun style display Crusty dragon Miss Drake has a new pet human precocious Winnie Oddly enough Winnie seems to think Miss Drake is her pet a ridiculous notion Unknown to most of its inhabitants the City by the Bay is home to many mysterious and fantastic creatures hidden beneath the parks among the clouds and even in plain sight And Winnie wants to draw every new creature she encounters the good the bad and the ugly But Winnie s sketchbook is not what it seems Somehow her sketchlings have been set loose on the city streets It will take Winnie and Miss Drake s combined efforts to put an end to the mayhem before it s too late  https://www.goodreads.com/book/show/22551747-a-dragon-s-guide-to-the-care-and-feeding-of-humans\n",
      "\n",
      "\n",
      "\n",
      "\n"
     ]
    }
   ],
   "source": [
    "for index in books:  # for all the books in the result of the function \n",
    "    df = pd.read_csv(\"books_3_tsv/article_\"+str(index)+\".tsv\", sep='\\t', encoding='utf-8' ) #read the tsv file \n",
    "    plot_split=re.split(r'\\W+', str(df['complete_plot'].iloc[0])) # split the plot \n",
    "    title=df['book_title'].iloc[0] # get the title \n",
    "    list_to_remove = ['b','br','span', 'one' , 'id', 'none','[',']'] # words that will be removed \n",
    "    clean_more = [w for w in plot_split if w not in list_to_remove] # remove them   \n",
    "    clean_more_2 = [w for w in clean_more if  not (re.findall(re.compile(r'freetext'),w)\n",
    "                                                   or re.findall(re.compile(r'\\d'),w)) ] # remove other unwanted elements \n",
    "    url=find_link(index) #find the link of the book\n",
    "    \n",
    "    print(title, ':' ,' '.join(clean_more_2),url) # print the title, the plot and the url \n",
    "    print('\\n\\n\\n')\n",
    "    "
   ]
  },
  {
   "cell_type": "markdown",
   "metadata": {},
   "source": [
    "## 2.2) Conjunctive query & Ranking score"
   ]
  },
  {
   "cell_type": "markdown",
   "metadata": {},
   "source": [
    "### 2.2.1) Inverted index\n"
   ]
  },
  {
   "cell_type": "code",
   "execution_count": 354,
   "metadata": {},
   "outputs": [],
   "source": [
    "for books in range(1,30001): # create a counter for each book\n",
    "    text_1='' # string of words in the document\n",
    "    try:\n",
    "        df = pd.read_csv(\"books_3_tsv/article_\"+str(books)+\".tsv\", sep='\\t', encoding='utf-8' ) #read tsv files\n",
    "    except:\n",
    "        continue\n",
    "    df = df.fillna(\"\") #fill empty values \n",
    "    df['book_title']=df['book_title'].apply(cleaner) # clean the title \n",
    "    df['complete_plot']=df['complete_plot'].apply(cleaner) #clean the book\n",
    "     \n",
    "\n",
    "    #df.to_csv('cleaned_csv/prova_libro_'+str(books)+'.csv') #to create new cleaned csv, run once \n",
    "    \n",
    "    \n",
    "    \n",
    "    title = df.iloc[0, 0] # get the title \n",
    "    plot = df.iloc[0, 8] #get the plot \n",
    "    text_1 = title + \" \" + plot # update the text of the document \n",
    "    arr_1=(text_1.split()) # split the text string \n",
    "    c = Counter(arr_1)  # create a dictionary with the number of occurences for each word\n",
    "    file = open(\"txt_files_2/article_\"+str(books)+\".txt\", \"w\")  # save it in a txt files \n",
    "    file.write(str(c)) \n",
    "    file.close() \n"
   ]
  },
  {
   "cell_type": "code",
   "execution_count": 356,
   "metadata": {},
   "outputs": [],
   "source": [
    "d = defaultdict(list)  #create a defaultdict. keys: word , values: (document id, occurrences of the word)"
   ]
  },
  {
   "cell_type": "code",
   "execution_count": 357,
   "metadata": {},
   "outputs": [],
   "source": [
    "def extract_from_counter(id): #given the index of the book it reads the dictionary in txt file and returns it \n",
    "    try:\n",
    "        \n",
    "        file = open(\"txt_files_2/article_\"+str(doc)+ \".txt\", \"r\") #open the file \n",
    "        dic=file.read() # read it \n",
    "        prova=dic.replace('Counter(','').replace(')','') # clean the content to be evaluated \n",
    "        test=ast.literal_eval(prova) #evaluate the dictionary saved as a string in the txt file \n",
    "        file.close()\n",
    "        return test\n",
    "    except:\n",
    "        return {} # return empty dictionary if some errors occur "
   ]
  },
  {
   "cell_type": "code",
   "execution_count": 358,
   "metadata": {},
   "outputs": [],
   "source": [
    "for doc in range(1,30001):   #fill the defaultdict d with all the documents\n",
    "    result=extract_from_counter(doc) #get the Counter \n",
    "    for key in result.keys(): # update dictionary \n",
    "        heapq.heappush(d[key],(result[key],doc)) # using heap to store values and to keep the order\n",
    "       "
   ]
  },
  {
   "cell_type": "code",
   "execution_count": 359,
   "metadata": {},
   "outputs": [],
   "source": [
    "dic_keys=d.keys() # create a new dictionary to subsitute words with words_id\n",
    "new_dic=defaultdict(list) \n",
    "for item in dic_keys:\n",
    "    try:\n",
    "        new_key=df_voc[df_voc.word==item].id.iloc[0] # find the word id from the vocabulary\n",
    "        new_dic[new_key]=d[item] # copy the values in the new dictionary\n",
    "    except:\n",
    "        continue"
   ]
  },
  {
   "cell_type": "code",
   "execution_count": 360,
   "metadata": {},
   "outputs": [],
   "source": [
    "#save the lenght of each document in a dictionary\n",
    "dic_lenght=defaultdict(int)\n",
    "\n",
    "for doc in range(1,30001): # fill dic_lenght with all the documents lenghts \n",
    "    result=extract_from_counter(doc) #get the Counter \n",
    "    lenght=sum(result.values()) # sum the values of the Counter of the document \n",
    "    if(lenght==0):\n",
    "        continue\n",
    "    dic_lenght[doc]=lenght #update the value in the dictionary\n",
    "documents_number=30000 # numbers of documents in the collection\n",
    "\n",
    "# save the number of documents for each word in a different dictionary\n",
    "documents_with_word= defaultdict(int) \n",
    "for item in d.keys(): \n",
    "    documents_with_word[item]=len(d[item]) "
   ]
  },
  {
   "cell_type": "code",
   "execution_count": 361,
   "metadata": {},
   "outputs": [],
   "source": [
    "#create again the dictionary with the heap ordered by tf_idf\n",
    "final_inverted_index=defaultdict(list) #this is the final inverted indev with words as keys.\n",
    "for doc in range(1,30001):\n",
    "    result=extract_from_counter(doc)\n",
    "    doc_len=dic_lenght[doc] # get the len of the document \n",
    "    for key in result.keys(): \n",
    "        tf= result[key] / doc_len\n",
    "        idf= math.log(documents_number / documents_with_word[key] ,10) \n",
    "        tf_idf= tf * idf #find tfidf\n",
    "        heapq.heappush(final_inverted_index[key],(tf_idf,doc)) # the list is ordered by the tfidf using a heap "
   ]
  },
  {
   "cell_type": "code",
   "execution_count": 362,
   "metadata": {},
   "outputs": [],
   "source": [
    "#change the word with the numbers  \n",
    "dic_keys=final_inverted_index.keys()\n",
    "inverted_index_tfidf=defaultdict(list)  #final inverted index\n",
    "for item in dic_keys:\n",
    "    try:\n",
    "        new_key=df_voc[df_voc.word==item].id.iloc[0] #get the id of the word from vocabulary\n",
    "        inverted_index_tfidf[new_key]=final_inverted_index[item] # copy the value of the ol dictionary in the final inverted index\n",
    "    except:\n",
    "        continue"
   ]
  },
  {
   "cell_type": "code",
   "execution_count": 363,
   "metadata": {},
   "outputs": [],
   "source": [
    "file= open('inverted_index_1.txt','r') #read the inverted index of the previous search engine \n",
    "obj= file.read()\n",
    "new_dic=ast.literal_eval(obj) #evaluate string as dictionary"
   ]
  },
  {
   "cell_type": "code",
   "execution_count": 364,
   "metadata": {},
   "outputs": [],
   "source": [
    "def find_tfidf(word_list): # given a list, this functions returns the tfidf_vector for the list of words \n",
    "    c=Counter(word_list)  # number of occurences of the word \n",
    "    res_vec=[] \n",
    "    string_len=len(word_list) # len of the list \n",
    "    for word in word_list: # calculate the tfidf for all the word in the query \n",
    "        tf=c[word]/string_len\n",
    "        idf= math.log(documents_number / documents_with_word[word] ,10) \n",
    "        res_vec.append(tf*idf) # append the result to the vector \n",
    "    return res_vec"
   ]
  },
  {
   "cell_type": "markdown",
   "metadata": {},
   "source": [
    "### 2.2.2) Execute the query\n"
   ]
  },
  {
   "cell_type": "code",
   "execution_count": 365,
   "metadata": {},
   "outputs": [],
   "source": [
    "## Process the query\n",
    "def search_query(): #the search engine is similar to the previous one, but in this case we use it to filter the list of\n",
    "                    # documents that contains all the words of the query. We will apply the cosine similarity function to this books\n",
    "    query= str(input('Insert the query '))\n",
    "    final_query=cleaner(query) #clean the query\n",
    "    word_list=final_query.split() #list of words \n",
    "    tf_idf=find_tfidf(word_list) # tfidf vector of the query\n",
    "    key_list=[]\n",
    "    for word in word_list: # find the id of each word in the query using vocabulary\n",
    "        key=df_voc[df_voc.word==word].id.iloc[0]\n",
    "        key_list.append(key) #update list of id \n",
    "    try:\n",
    "        result=new_dic[key_list[0]]  # get the list of documentsof first word \n",
    "    except:\n",
    "        print('No results found for the input query') # if it is empty return \n",
    "        return 0,0,0\n",
    "   \n",
    "    for item in key_list:\n",
    "        result=result.intersection(new_dic[item]) # get the intersection between all the list of documents \n",
    "        \n",
    "    return result,key_list,tf_idf  #it returns the set of documents, the words in the query, and the tf_idf vector of the query"
   ]
  },
  {
   "cell_type": "code",
   "execution_count": 366,
   "metadata": {},
   "outputs": [
    {
     "name": "stdout",
     "output_type": "stream",
     "text": [
      "Insert the query love hard pain\n"
     ]
    }
   ],
   "source": [
    "res,key_list,tf_vector=search_query()   # call the function"
   ]
  },
  {
   "cell_type": "code",
   "execution_count": 377,
   "metadata": {},
   "outputs": [],
   "source": [
    "result_list=[] \n",
    "for book in res: # for each book in result we create the tfidf_vector. The lenght of the vector is equal to the length \n",
    "                # of the tfidf_vector of the query\n",
    "    vec=[]\n",
    "    for key in key_list:\n",
    "        data_frame= pd.DataFrame(inverted_index_tfidf[key])#convert the values of the key in a dataframe \n",
    "        data_frame.columns=['tf','doc']\n",
    "        vec.append(data_frame[data_frame.doc== book].tf.iloc[0]) # search the tfidf value filtering the dataframe \n",
    "   \n",
    "    similarity= 1 - spatial.distance.cosine(tf_vector,vec) # for each book we apply the cosine similarity\n",
    "    result_list.append((similarity, book)) # store the result in a list\n",
    "\n",
    "final_list=heapq.nlargest(4,result_list)  # get the top 4 results "
   ]
  },
  {
   "cell_type": "code",
   "execution_count": 378,
   "metadata": {},
   "outputs": [],
   "source": [
    "result_dataframe= pd.DataFrame(columns=['Title','Plot','Url','Similarity']) #create a dataframe to store the results \n",
    "#create a list for each field  \n",
    "title_list=[]\n",
    "plot_list=[]\n",
    "url_list=[]\n",
    "sim_list=[]\n",
    "for similar,index in final_list:  # for each book we print the title, the plot, the url and the cosine similarity\n",
    "    df = pd.read_csv(\"books_3_tsv/article_\"+str(index)+\".tsv\", sep='\\t', encoding='utf-8' ) #read the file \n",
    "    plot_split=re.split(r'\\W+', str(df['complete_plot'].iloc[0])) # split the plot \n",
    "    title=df['book_title'].iloc[0] #get the title \n",
    "    list_to_remove = ['b','br','span', 'one' , 'id', 'none','[',']'] \n",
    "    clean_more = [w for w in plot_split if w not in list_to_remove] \n",
    "    clean_more_2 = [w for w in clean_more if  not (re.findall(re.compile(r'freetext'),w)\n",
    "                                                   or re.findall(re.compile(r'\\d'),w)) ] # clean again the plot\n",
    "    url=find_link(index) #find the link \n",
    "    #update the different lists \n",
    "    title_list.append(title) \n",
    "    plot_list.append(' '.join(clean_more_2))\n",
    "    url_list.append(url)\n",
    "    sim_list.append(similar)\n",
    "#update the dataframe using the lists \n",
    "result_dataframe['Title'] = title_list\n",
    "result_dataframe['Plot'] = plot_list\n",
    "result_dataframe['Url'] = url_list\n",
    "result_dataframe['Similarity']=sim_list"
   ]
  },
  {
   "cell_type": "code",
   "execution_count": 379,
   "metadata": {},
   "outputs": [
    {
     "data": {
      "text/html": [
       "<div>\n",
       "<style scoped>\n",
       "    .dataframe tbody tr th:only-of-type {\n",
       "        vertical-align: middle;\n",
       "    }\n",
       "\n",
       "    .dataframe tbody tr th {\n",
       "        vertical-align: top;\n",
       "    }\n",
       "\n",
       "    .dataframe thead th {\n",
       "        text-align: right;\n",
       "    }\n",
       "</style>\n",
       "<table border=\"1\" class=\"dataframe\">\n",
       "  <thead>\n",
       "    <tr style=\"text-align: right;\">\n",
       "      <th></th>\n",
       "      <th>Title</th>\n",
       "      <th>Plot</th>\n",
       "      <th>Url</th>\n",
       "      <th>Similarity</th>\n",
       "    </tr>\n",
       "  </thead>\n",
       "  <tbody>\n",
       "    <tr>\n",
       "      <th>0</th>\n",
       "      <td>Unbearable Lightness: A Story of Loss and Gain</td>\n",
       "      <td>I didn t decide to become anorexic It snuck u...</td>\n",
       "      <td>https://www.goodreads.com/book/show/9219901-un...</td>\n",
       "      <td>1.000000</td>\n",
       "    </tr>\n",
       "    <tr>\n",
       "      <th>1</th>\n",
       "      <td>Most of All You</td>\n",
       "      <td>i A broken woman i Crystal learned long ago t...</td>\n",
       "      <td>https://www.goodreads.com/book/show/32854499-m...</td>\n",
       "      <td>0.969612</td>\n",
       "    </tr>\n",
       "    <tr>\n",
       "      <th>2</th>\n",
       "      <td>More Than Two: A Practical Guide to Ethical Po...</td>\n",
       "      <td>Can you love more than person Have multiple r...</td>\n",
       "      <td>https://www.goodreads.com/book/show/21955937-m...</td>\n",
       "      <td>0.956397</td>\n",
       "    </tr>\n",
       "    <tr>\n",
       "      <th>3</th>\n",
       "      <td>An Unexpected Blessing</td>\n",
       "      <td>i This is an alternate cover edition of ISBN ...</td>\n",
       "      <td>https://www.goodreads.com/book/show/52374459-a...</td>\n",
       "      <td>0.955570</td>\n",
       "    </tr>\n",
       "  </tbody>\n",
       "</table>\n",
       "</div>"
      ],
      "text/plain": [
       "                                               Title  \\\n",
       "0     Unbearable Lightness: A Story of Loss and Gain   \n",
       "1                                    Most of All You   \n",
       "2  More Than Two: A Practical Guide to Ethical Po...   \n",
       "3                             An Unexpected Blessing   \n",
       "\n",
       "                                                Plot  \\\n",
       "0   I didn t decide to become anorexic It snuck u...   \n",
       "1   i A broken woman i Crystal learned long ago t...   \n",
       "2   Can you love more than person Have multiple r...   \n",
       "3   i This is an alternate cover edition of ISBN ...   \n",
       "\n",
       "                                                 Url  Similarity  \n",
       "0  https://www.goodreads.com/book/show/9219901-un...    1.000000  \n",
       "1  https://www.goodreads.com/book/show/32854499-m...    0.969612  \n",
       "2  https://www.goodreads.com/book/show/21955937-m...    0.956397  \n",
       "3  https://www.goodreads.com/book/show/52374459-a...    0.955570  "
      ]
     },
     "execution_count": 379,
     "metadata": {},
     "output_type": "execute_result"
    }
   ],
   "source": [
    "result_dataframe"
   ]
  },
  {
   "cell_type": "markdown",
   "metadata": {},
   "source": [
    "### Note: Q-2 Search Engine with tfidf-cos similarity (Built-in functions)\n",
    "##### For this question we have another solution which uses the built-in functions. Please see the solution and code below."
   ]
  },
  {
   "cell_type": "code",
   "execution_count": null,
   "metadata": {},
   "outputs": [],
   "source": [
    "# Create a csv files for all books with book title, cleaned plot, url and empty similarity column.\n",
    "# The similarity score will be added to dataframe later\n",
    "\n",
    "df_new = pd.DataFrame(columns = ['Book Title', 'Plot', 'Url','Similarity'])\n",
    "title_list = []\n",
    "plot_list = []\n",
    "url_list = []\n",
    "\n",
    "for index in tqdm(range(1,30000)):\n",
    "    try:\n",
    "        df = pd.read_csv(\"books_tsv/article_\"+str(index)+\".tsv\", sep='\\t', encoding='utf-8' )\n",
    "    except:\n",
    "        continue\n",
    "    df['book_title'] = df['book_title'].apply(cleaner)\n",
    "    title = df['book_title'].iloc[0]\n",
    "    df['complete_plot']=df['complete_plot'].apply(cleaner)\n",
    "    plot = df['complete_plot'].iloc[0]\n",
    "    complete_plt= title + \" \" + plot\n",
    "    plot_split = re.split(r'\\W+', str(complete_plt))\n",
    "    \n",
    "    url=find_link(index)    \n",
    "    title_list.append(title)\n",
    "    plot_list.append(' '.join(plot_split))\n",
    "    url_list.append(url)\n",
    "    \n",
    "df_new['Book Title'] = title_list\n",
    "df_new['Plot'] = plot_list\n",
    "df_new['Url'] = url_list\n",
    "df_new.to_csv ('tfidf_cos.csv', index = False, header=True)"
   ]
  },
  {
   "cell_type": "code",
   "execution_count": 7,
   "metadata": {},
   "outputs": [
    {
     "name": "stdout",
     "output_type": "stream",
     "text": [
      "Search something: last freedom\n"
     ]
    },
    {
     "data": {
      "text/html": [
       "<div>\n",
       "<style scoped>\n",
       "    .dataframe tbody tr th:only-of-type {\n",
       "        vertical-align: middle;\n",
       "    }\n",
       "\n",
       "    .dataframe tbody tr th {\n",
       "        vertical-align: top;\n",
       "    }\n",
       "\n",
       "    .dataframe thead th {\n",
       "        text-align: right;\n",
       "    }\n",
       "</style>\n",
       "<table border=\"1\" class=\"dataframe\">\n",
       "  <thead>\n",
       "    <tr style=\"text-align: right;\">\n",
       "      <th></th>\n",
       "      <th>Book Title</th>\n",
       "      <th>Plot</th>\n",
       "      <th>Url</th>\n",
       "      <th>Similarity</th>\n",
       "    </tr>\n",
       "  </thead>\n",
       "  <tbody>\n",
       "    <tr>\n",
       "      <th>18331</th>\n",
       "      <td>first last freedom</td>\n",
       "      <td>first last freedom krishnamurti lead spiritu t...</td>\n",
       "      <td>https://www.goodreads.com/book/show/64710.The_...</td>\n",
       "      <td>0.427591</td>\n",
       "    </tr>\n",
       "    <tr>\n",
       "      <th>8203</th>\n",
       "      <td>love freedom alon koan relationship</td>\n",
       "      <td>love freedom alon koan relationship today worl...</td>\n",
       "      <td>https://www.goodreads.com/book/show/97008.Love...</td>\n",
       "      <td>0.426060</td>\n",
       "    </tr>\n",
       "    <tr>\n",
       "      <th>11982</th>\n",
       "      <td>found freedom unfre world handbook person liberti</td>\n",
       "      <td>found freedom unfre world handbook person libe...</td>\n",
       "      <td>https://www.goodreads.com/book/show/82104.How_...</td>\n",
       "      <td>0.355028</td>\n",
       "    </tr>\n",
       "    <tr>\n",
       "      <th>22317</th>\n",
       "      <td>seed america trilog chain forg ash</td>\n",
       "      <td>seed america trilog chain forg ash would risk ...</td>\n",
       "      <td>https://www.goodreads.com/book/show/29430512-t...</td>\n",
       "      <td>0.318160</td>\n",
       "    </tr>\n",
       "    <tr>\n",
       "      <th>4156</th>\n",
       "      <td>diari freedom writer experi</td>\n",
       "      <td>diari freedom writer experi survivor word cont...</td>\n",
       "      <td>https://www.goodreads.com/book/show/17879512-d...</td>\n",
       "      <td>0.291967</td>\n",
       "    </tr>\n",
       "    <tr>\n",
       "      <th>4361</th>\n",
       "      <td>escap freedom</td>\n",
       "      <td>escap freedom human cannot live danger respons...</td>\n",
       "      <td>https://www.goodreads.com/book/show/25491.Esca...</td>\n",
       "      <td>0.279686</td>\n",
       "    </tr>\n",
       "    <tr>\n",
       "      <th>19841</th>\n",
       "      <td>develop freedom</td>\n",
       "      <td>develop freedom winner nobel prize econom esse...</td>\n",
       "      <td>https://www.goodreads.com/book/show/173961.Dev...</td>\n",
       "      <td>0.265597</td>\n",
       "    </tr>\n",
       "    <tr>\n",
       "      <th>15236</th>\n",
       "      <td>capit freedom</td>\n",
       "      <td>capit freedom select time literari supplement ...</td>\n",
       "      <td>https://www.goodreads.com/book/show/51877.Capi...</td>\n",
       "      <td>0.255351</td>\n",
       "    </tr>\n",
       "    <tr>\n",
       "      <th>19386</th>\n",
       "      <td>ann mccaffrey freedom collect freedom land fre...</td>\n",
       "      <td>ann mccaffrey freedom collect freedom land fre...</td>\n",
       "      <td>https://www.goodreads.com/book/show/24867.Anne...</td>\n",
       "      <td>0.240459</td>\n",
       "    </tr>\n",
       "    <tr>\n",
       "      <th>17584</th>\n",
       "      <td>escap</td>\n",
       "      <td>escap nearli ten year captiv grace readi make ...</td>\n",
       "      <td>https://www.goodreads.com/book/show/21470020-e...</td>\n",
       "      <td>0.229970</td>\n",
       "    </tr>\n",
       "  </tbody>\n",
       "</table>\n",
       "</div>"
      ],
      "text/plain": [
       "                                              Book Title  \\\n",
       "18331                                 first last freedom   \n",
       "8203                 love freedom alon koan relationship   \n",
       "11982  found freedom unfre world handbook person liberti   \n",
       "22317                 seed america trilog chain forg ash   \n",
       "4156                         diari freedom writer experi   \n",
       "4361                                       escap freedom   \n",
       "19841                                    develop freedom   \n",
       "15236                                      capit freedom   \n",
       "19386  ann mccaffrey freedom collect freedom land fre...   \n",
       "17584                                              escap   \n",
       "\n",
       "                                                    Plot  \\\n",
       "18331  first last freedom krishnamurti lead spiritu t...   \n",
       "8203   love freedom alon koan relationship today worl...   \n",
       "11982  found freedom unfre world handbook person libe...   \n",
       "22317  seed america trilog chain forg ash would risk ...   \n",
       "4156   diari freedom writer experi survivor word cont...   \n",
       "4361   escap freedom human cannot live danger respons...   \n",
       "19841  develop freedom winner nobel prize econom esse...   \n",
       "15236  capit freedom select time literari supplement ...   \n",
       "19386  ann mccaffrey freedom collect freedom land fre...   \n",
       "17584  escap nearli ten year captiv grace readi make ...   \n",
       "\n",
       "                                                     Url  Similarity  \n",
       "18331  https://www.goodreads.com/book/show/64710.The_...    0.427591  \n",
       "8203   https://www.goodreads.com/book/show/97008.Love...    0.426060  \n",
       "11982  https://www.goodreads.com/book/show/82104.How_...    0.355028  \n",
       "22317  https://www.goodreads.com/book/show/29430512-t...    0.318160  \n",
       "4156   https://www.goodreads.com/book/show/17879512-d...    0.291967  \n",
       "4361   https://www.goodreads.com/book/show/25491.Esca...    0.279686  \n",
       "19841  https://www.goodreads.com/book/show/173961.Dev...    0.265597  \n",
       "15236  https://www.goodreads.com/book/show/51877.Capi...    0.255351  \n",
       "19386  https://www.goodreads.com/book/show/24867.Anne...    0.240459  \n",
       "17584  https://www.goodreads.com/book/show/21470020-e...    0.229970  "
      ]
     },
     "execution_count": 7,
     "metadata": {},
     "output_type": "execute_result"
    }
   ],
   "source": [
    "# Read the csv file created above\n",
    "\n",
    "df_new = pd.read_csv(\"tfidf_cos.csv\")\n",
    "\n",
    "# Calculate the tfidf and cosine similarity score for all books with the query\n",
    "\n",
    "vectorizer = TfidfVectorizer() # Get tf-idf matrix using fit_transform function\n",
    "X = vectorizer.fit_transform(df_new['Plot'].values.astype('U')) # Store tf-idf representations of all docs\n",
    "\n",
    "query = str(input('Search something: ')) # Ask the user to write the query\n",
    "\n",
    "query_vec = vectorizer.transform([query]) # Ip -- (n_docs,x), Op -- (n_docs,n_Feats)\n",
    "results = cosine_similarity(X,query_vec).reshape((-1,)) # Op -- (n_docs,1) -- Cosine Sim with each doc\n",
    "cos_sim = results.tolist() # Convert the cosine similarity result to list format\n",
    "df_new['Similarity'] = cos_sim # Write the similarity score to Similarity column of dataframe\n",
    "    \n",
    "df_new.nlargest(10,'Similarity') # Take the first 10 most similar books"
   ]
  },
  {
   "cell_type": "markdown",
   "metadata": {},
   "source": [
    "## Q-3. Define a new score!\n",
    "\n",
    "As it has been requested we have added a new filter. We are asking to user to enter the query and the minimum rating for the books. We have defined a new score which is taking the rating into account and normalize it then multiply by cosine similarity. Then we are showing the 10 books with the highest new score that has been defined."
   ]
  },
  {
   "cell_type": "code",
   "execution_count": 25,
   "metadata": {},
   "outputs": [
    {
     "name": "stderr",
     "output_type": "stream",
     "text": [
      "100%|████████████████████████████████████████████████████████████████████████████| 29999/29999 [56:40<00:00,  8.82it/s]\n"
     ]
    }
   ],
   "source": [
    "# Create a csv files for all books with cleaned book title, rating, cleaned plot, url, empty similarity and score column.\n",
    "# The similarity and new score that has been defined will be added to dataframe later.\n",
    "\n",
    "df_new = pd.DataFrame(columns = ['Book Title','Rating', 'Number_of_Rating', 'Plot', 'Url', 'Similarity', 'Score'])\n",
    "title_list = []\n",
    "plot_list = []\n",
    "url_list = []\n",
    "rating_list = []\n",
    "num_rating_list = []\n",
    "\n",
    "for index in tqdm(range(1,30000)):\n",
    "    try:\n",
    "        df = pd.read_csv(\"books_tsv/article_\"+str(index)+\".tsv\", sep='\\t', encoding='utf-8' )\n",
    "    except:\n",
    "        continue\n",
    "    df['book_title'] = df['book_title'].apply(cleaner)\n",
    "    title = df['book_title'].iloc[0]\n",
    "    df['complete_plot']=df['complete_plot'].apply(cleaner)\n",
    "    plot = df['complete_plot'].iloc[0]\n",
    "    complete_plt= title + \" \" + plot\n",
    "    plot_split = re.split(r'\\W+', str(complete_plt))\n",
    "    rate = df['rating'].iloc[0]/5 # Normalize the rating\n",
    "    num_rating = df['number_of_rating'].iloc[0]\n",
    "    \n",
    "    url=find_link(index)    \n",
    "    title_list.append(title)\n",
    "    plot_list.append(' '.join(plot_split))\n",
    "    url_list.append(url)\n",
    "    rating_list.append(rate)\n",
    "    num_rating_list.append(num_rating)\n",
    "    \n",
    "df_new['Book Title'] = title_list\n",
    "df_new['Plot'] = plot_list\n",
    "df_new['Url'] = url_list\n",
    "df_new['Rating'] = rating_list\n",
    "df_new['Number_of_Rating'] = num_rating_list\n",
    "df_new.to_csv ('tfidf_cos2.csv', index = False, header=True)\n"
   ]
  },
  {
   "cell_type": "code",
   "execution_count": 19,
   "metadata": {},
   "outputs": [
    {
     "name": "stdout",
     "output_type": "stream",
     "text": [
      "Search something: love life\n",
      "Minimum rating: 4\n",
      "Minimum number of rating: 20000\n"
     ]
    },
    {
     "data": {
      "text/html": [
       "<div>\n",
       "<style scoped>\n",
       "    .dataframe tbody tr th:only-of-type {\n",
       "        vertical-align: middle;\n",
       "    }\n",
       "\n",
       "    .dataframe tbody tr th {\n",
       "        vertical-align: top;\n",
       "    }\n",
       "\n",
       "    .dataframe thead th {\n",
       "        text-align: right;\n",
       "    }\n",
       "</style>\n",
       "<table border=\"1\" class=\"dataframe\">\n",
       "  <thead>\n",
       "    <tr style=\"text-align: right;\">\n",
       "      <th></th>\n",
       "      <th>Book Title</th>\n",
       "      <th>Rating</th>\n",
       "      <th>Number_of_Rating</th>\n",
       "      <th>Plot</th>\n",
       "      <th>Url</th>\n",
       "      <th>Similarity</th>\n",
       "      <th>Score</th>\n",
       "    </tr>\n",
       "  </thead>\n",
       "  <tbody>\n",
       "    <tr>\n",
       "      <th>2216</th>\n",
       "      <td>thief</td>\n",
       "      <td>0.874</td>\n",
       "      <td>34377</td>\n",
       "      <td>thief note self love patient love kind love bo...</td>\n",
       "      <td>https://www.goodreads.com/book/show/16090981-t...</td>\n",
       "      <td>0.380172</td>\n",
       "      <td>0.332270</td>\n",
       "    </tr>\n",
       "    <tr>\n",
       "      <th>2684</th>\n",
       "      <td>art love</td>\n",
       "      <td>0.806</td>\n",
       "      <td>53172</td>\n",
       "      <td>art love fiftieth anniversari edit groundbreak...</td>\n",
       "      <td>https://www.goodreads.com/book/show/14142.The_...</td>\n",
       "      <td>0.381103</td>\n",
       "      <td>0.307169</td>\n",
       "    </tr>\n",
       "    <tr>\n",
       "      <th>877</th>\n",
       "      <td>love languag secret love last</td>\n",
       "      <td>0.850</td>\n",
       "      <td>300738</td>\n",
       "      <td>love languag secret love last div p simpl idea...</td>\n",
       "      <td>https://www.goodreads.com/book/show/23878688-t...</td>\n",
       "      <td>0.343241</td>\n",
       "      <td>0.291755</td>\n",
       "    </tr>\n",
       "    <tr>\n",
       "      <th>6749</th>\n",
       "      <td>four love</td>\n",
       "      <td>0.828</td>\n",
       "      <td>44040</td>\n",
       "      <td>four love four love summar four kind human lov...</td>\n",
       "      <td>https://www.goodreads.com/book/show/29938407-t...</td>\n",
       "      <td>0.323872</td>\n",
       "      <td>0.268166</td>\n",
       "    </tr>\n",
       "    <tr>\n",
       "      <th>7267</th>\n",
       "      <td>lilli</td>\n",
       "      <td>0.854</td>\n",
       "      <td>27827</td>\n",
       "      <td>lilli cash mayson forc choos love life unborn ...</td>\n",
       "      <td>https://www.goodreads.com/book/show/18781540-u...</td>\n",
       "      <td>0.255823</td>\n",
       "      <td>0.218473</td>\n",
       "    </tr>\n",
       "    <tr>\n",
       "      <th>10660</th>\n",
       "      <td>cours love</td>\n",
       "      <td>0.810</td>\n",
       "      <td>25785</td>\n",
       "      <td>cours love engross tale provid plenti food tho...</td>\n",
       "      <td>https://www.goodreads.com/book/show/27845690-t...</td>\n",
       "      <td>0.251856</td>\n",
       "      <td>0.204003</td>\n",
       "    </tr>\n",
       "    <tr>\n",
       "      <th>339</th>\n",
       "      <td>NaN</td>\n",
       "      <td>0.852</td>\n",
       "      <td>1158061</td>\n",
       "      <td>new york time bestsel author giver star disco...</td>\n",
       "      <td>https://www.goodreads.com/book/show/17347634-m...</td>\n",
       "      <td>0.221267</td>\n",
       "      <td>0.188520</td>\n",
       "    </tr>\n",
       "    <tr>\n",
       "      <th>4083</th>\n",
       "      <td>crash</td>\n",
       "      <td>0.910</td>\n",
       "      <td>41104</td>\n",
       "      <td>crash life crash around us hard will fight thi...</td>\n",
       "      <td>https://www.goodreads.com/book/show/30166123-c...</td>\n",
       "      <td>0.202856</td>\n",
       "      <td>0.184599</td>\n",
       "    </tr>\n",
       "    <tr>\n",
       "      <th>8946</th>\n",
       "      <td>love dare</td>\n",
       "      <td>0.878</td>\n",
       "      <td>52135</td>\n",
       "      <td>love dare new york time best seller million un...</td>\n",
       "      <td>https://www.goodreads.com/book/show/4499669-th...</td>\n",
       "      <td>0.191880</td>\n",
       "      <td>0.168471</td>\n",
       "    </tr>\n",
       "    <tr>\n",
       "      <th>19191</th>\n",
       "      <td>citi girl</td>\n",
       "      <td>0.808</td>\n",
       "      <td>160745</td>\n",
       "      <td>citi girl new york time bestsel author eat pra...</td>\n",
       "      <td>https://www.goodreads.com/book/show/51918871-c...</td>\n",
       "      <td>0.207864</td>\n",
       "      <td>0.167954</td>\n",
       "    </tr>\n",
       "  </tbody>\n",
       "</table>\n",
       "</div>"
      ],
      "text/plain": [
       "                          Book Title  Rating  Number_of_Rating  \\\n",
       "2216                           thief   0.874             34377   \n",
       "2684                        art love   0.806             53172   \n",
       "877    love languag secret love last   0.850            300738   \n",
       "6749                       four love   0.828             44040   \n",
       "7267                           lilli   0.854             27827   \n",
       "10660                     cours love   0.810             25785   \n",
       "339                              NaN   0.852           1158061   \n",
       "4083                           crash   0.910             41104   \n",
       "8946                       love dare   0.878             52135   \n",
       "19191                      citi girl   0.808            160745   \n",
       "\n",
       "                                                    Plot  \\\n",
       "2216   thief note self love patient love kind love bo...   \n",
       "2684   art love fiftieth anniversari edit groundbreak...   \n",
       "877    love languag secret love last div p simpl idea...   \n",
       "6749   four love four love summar four kind human lov...   \n",
       "7267   lilli cash mayson forc choos love life unborn ...   \n",
       "10660  cours love engross tale provid plenti food tho...   \n",
       "339     new york time bestsel author giver star disco...   \n",
       "4083   crash life crash around us hard will fight thi...   \n",
       "8946   love dare new york time best seller million un...   \n",
       "19191  citi girl new york time bestsel author eat pra...   \n",
       "\n",
       "                                                     Url  Similarity     Score  \n",
       "2216   https://www.goodreads.com/book/show/16090981-t...    0.380172  0.332270  \n",
       "2684   https://www.goodreads.com/book/show/14142.The_...    0.381103  0.307169  \n",
       "877    https://www.goodreads.com/book/show/23878688-t...    0.343241  0.291755  \n",
       "6749   https://www.goodreads.com/book/show/29938407-t...    0.323872  0.268166  \n",
       "7267   https://www.goodreads.com/book/show/18781540-u...    0.255823  0.218473  \n",
       "10660  https://www.goodreads.com/book/show/27845690-t...    0.251856  0.204003  \n",
       "339    https://www.goodreads.com/book/show/17347634-m...    0.221267  0.188520  \n",
       "4083   https://www.goodreads.com/book/show/30166123-c...    0.202856  0.184599  \n",
       "8946   https://www.goodreads.com/book/show/4499669-th...    0.191880  0.168471  \n",
       "19191  https://www.goodreads.com/book/show/51918871-c...    0.207864  0.167954  "
      ]
     },
     "execution_count": 19,
     "metadata": {},
     "output_type": "execute_result"
    }
   ],
   "source": [
    "# Calculate the tfidf and cosine similarity score for all books with the query\n",
    "df_new = pd.read_csv(\"tfidf_cos2.csv\")\n",
    "\n",
    "vectorizer = TfidfVectorizer() # Get tf-idf matrix using fit_transform function\n",
    "X = vectorizer.fit_transform(df_new['Plot'].values.astype('U')) # Store tf-idf representations of all docs\n",
    "\n",
    "query = str(input('Search something: ')) # Ask the user to write the query\n",
    "min_rating = np.float(input('Minimum rating: ')) # We have asked to user to write the minimum rating he/she wants\n",
    "min_number_rating = np.int(input('Minimum number of rating: ')) # We have asked to user to write the minimum rating he/she wants\n",
    "\n",
    "df_empty = pd.DataFrame(columns = ['Book Title', 'Rating', 'Number_of_Rating', 'Plot', 'Url', 'Similarity', 'Score'])\n",
    "\n",
    "query_vec = vectorizer.transform([query]) # Ip -- (n_docs,x), Op -- (n_docs,n_Feats)\n",
    "results = cosine_similarity(X,query_vec).reshape((-1,)) # Op -- (n_docs,1) -- Cosine Sim with each doc\n",
    "cos_sim = results.tolist() # Convert the cosine similarity result to list format\n",
    "df_new['Similarity'] = cos_sim\n",
    "df_new['Score'] = cos_sim * df_new['Rating']  # Calculate the score as cosine_similarity*rating and write to Score column of dataframe\n",
    "\n",
    "df_new[(df_new['Number_of_Rating'] > min_number_rating) & (df_new['Rating']*5 > min_rating)].nlargest(10,'Score')\n"
   ]
  },
  {
   "cell_type": "markdown",
   "metadata": {},
   "source": [
    "## Q-5. Algorithmic Question\n",
    "\n",
    "You are given a string written in english capital letters, for example S=\"CADFECEILGJHABNOPSTIRYOEABILCNR.\" You are asked to find the maximum length of a subsequence of characters that is in alfabetical order. For example, here a subsequence of characters in alphabetical order is the \"ACEGJSTY\": \"CADFECEILGJHABNOFPSTIRYOEABILCNR.\" Among all the possible such sequences, you are asked to find the one that is the longest.\n",
    "\n",
    "1. Write a recursive program that, given a string, computes the length of the subsequence of maximum length that is in alphabetical order. Try some examples. Are the examples of short strings correct? Can you find examples that your algorithm does not terminate in reasonable time?"
   ]
  },
  {
   "cell_type": "code",
   "execution_count": 38,
   "metadata": {},
   "outputs": [
    {
     "name": "stdout",
     "output_type": "stream",
     "text": [
      "--- 0.0 seconds ---\n",
      "Please enter a sequence with upper cases: ABUOMLDEF\n",
      "Length of the alphabetical ordered longest subsequence is  5\n"
     ]
    }
   ],
   "source": [
    "import time\n",
    "start_time = time.time()\n",
    "\n",
    "def recursive_lcs(Y, X, m, n): \n",
    "  \n",
    "    if m == 0 or n == 0: \n",
    "        return 0; \n",
    "    elif Y[m-1] == X[n-1]: \n",
    "        return 1 + recursive_lcs(Y, X, m-1, n-1); \n",
    "    else: \n",
    "        return max(recursive_lcs(Y, X, m, n-1), recursive_lcs(Y, X, m-1, n)); \n",
    "\n",
    "print(\"--- %s seconds ---\" % (time.time() - start_time))\n",
    " \n",
    "Alphabet_S = \"ABCDEFGHIJKLMNOPQRSTUVWXYZ\"\n",
    "Input_S =  input(\"Please enter a sequence with upper cases: \")\n",
    "#print (\"Length of LCS is \", lcs(Y , X, len(Y), len(X)))\n",
    "\n",
    "if Input_S.isalpha() and Input_S.isupper():\n",
    "    print (\"Length of the alphabetical ordered longest subsequence is \", recursive_lcs(Alphabet_S, Input_S, len(Alphabet_S), len(Input_S)))\n",
    "else:\n",
    "    print ('Please enter a string with only upper case letters in English!')    "
   ]
  },
  {
   "cell_type": "markdown",
   "metadata": {},
   "source": [
    "### Consideration:\n",
    "\n",
    "As we have tried several times with short strings that can prove whether the function is finding correct answer or not, our function has returned correct answer for all different inputs. Since we have conditioned the input that all strings can only contain the letters of English alphabet it also makes sure that we have a correct input. We have tried the function by increasing the length of string and when we have tried a string with length 20 it just kept running and did not returned a result in a reasonable time.\n",
    "\n",
    "2. Show that the running time of the algorithm is exponential."
   ]
  },
  {
   "cell_type": "code",
   "execution_count": 43,
   "metadata": {},
   "outputs": [
    {
     "data": {
      "text/plain": [
       "Text(0.5, 1.0, 'Execution Time & Length of Query Plot')"
      ]
     },
     "execution_count": 43,
     "metadata": {},
     "output_type": "execute_result"
    },
    {
     "data": {
      "image/png": "[encoded data removed]",
      "text/plain": [
       "<Figure size 432x288 with 1 Axes>"
      ]
     },
     "metadata": {
      "needs_background": "light"
     },
     "output_type": "display_data"
    }
   ],
   "source": [
    "def recursive_lcs(Y, X, m, n): \n",
    "  \n",
    "    if m == 0 or n == 0: \n",
    "        return 0; \n",
    "    elif Y[m-1] == X[n-1]: \n",
    "        return 1 + recursive_lcs(Y, X, m-1, n-1); \n",
    "    else: \n",
    "        return max(recursive_lcs(Y, X, m, n-1), recursive_lcs(Y, X, m-1, n)); \n",
    "\n",
    "import matplotlib.pyplot as plt\n",
    "\n",
    "list_a = ['F','DF','AGD', 'VYBI', 'DCYPS', 'KLMADT', 'OPYTESK', 'QTYSFGHS', 'HVBFLFKGN', 'AVBFLFKGNY', 'BVBFLFKGNQU', 'HVBFLFKGNPST']\n",
    "times = []\n",
    "length = []\n",
    "\n",
    "for i in range(len(list_a)):\n",
    "    \n",
    "    Alphabet_S = \"ABCDEFGHIJKLMNOPQRSTUVWXYZ\"\n",
    "    Input_S = list_a[i]\n",
    "    \n",
    "    start_time = time.time()\n",
    "    \n",
    "    recursive_lcs(Alphabet_S, Input_S, len(Alphabet_S), len(Input_S))\n",
    "    \n",
    "    t = (time.time() - start_time)\n",
    "    \n",
    "    l = len(Input_S)\n",
    "    times.append(t)\n",
    "    length.append(l)\n",
    "    \n",
    "plt.plot(length,times, linewidth = 3.0)\n",
    "plt.xlabel('Length of Query')\n",
    "plt.ylabel('Execution Time (seconds)')\n",
    "plt.title('Execution Time & Length of Query Plot')\n"
   ]
  },
  {
   "cell_type": "markdown",
   "metadata": {},
   "source": [
    "### Consideration:\n",
    "\n",
    "As we can see above the graph prove that the running time is increasing dramatically which really look like the recursive algorithm has the exponential time complexity.\n",
    "\n",
    "3. Write a program that computes the length of the subsequence of maximum length, using dynamic programming."
   ]
  },
  {
   "cell_type": "code",
   "execution_count": 45,
   "metadata": {},
   "outputs": [
    {
     "name": "stdout",
     "output_type": "stream",
     "text": [
      "--- 0.0 seconds ---\n",
      "Please enter a sequence with upper cases: ABCYDEUFG\n",
      "Length of LCS is  7\n"
     ]
    }
   ],
   "source": [
    "import time\n",
    "start_time = time.time()\n",
    "\n",
    "def longest_common_subsequence(S1 , S2):\n",
    "    \n",
    "    m = len(S1) \n",
    "    n = len(S2) \n",
    "\n",
    "    # declaring the array for storing the dp values \n",
    "    L = [[None]*(n+1) for i in range(m+1)] \n",
    "\n",
    "    \"\"\"Following steps build L[m+1][n+1] in bottom up fashion \n",
    "    Note: L[i][j] contains length of LCS of X[0..i-1] \n",
    "    and Y[0..j-1]\"\"\"\n",
    "    for i in range(m+1): \n",
    "        for j in range(n+1): \n",
    "            if i == 0 or j == 0 : \n",
    "                L[i][j] = 0\n",
    "            elif S1[i-1] == S2[j-1]: \n",
    "                L[i][j] = L[i-1][j-1]+1\n",
    "            else: \n",
    "                L[i][j] = max(L[i-1][j] , L[i][j-1]) \n",
    "\n",
    "    # L[m][n] contains the length of LCS of X[0..n-1] & Y[0..m-1] \n",
    "    return L[m][n]\n",
    "\n",
    "print(\"--- %s seconds ---\" % (time.time() - start_time))\n",
    "    \n",
    "Input_S = input(\"Please enter a sequence with upper cases: \")\n",
    "Alphabet_S = \"ABCDEFGHIJKLMNOPQRSTUVWXYZ\"\n",
    "\n",
    "if Input_S.isalpha() and Input_S.isupper():\n",
    "    print (\"Length of LCS is \", longest_common_subsequence(Input_S, Alphabet_S))\n",
    "else:\n",
    "    print ('Please enter a string with only upper case letters in English!')\n",
    "       "
   ]
  },
  {
   "cell_type": "markdown",
   "metadata": {},
   "source": [
    "### Considerations:\n",
    "As we have tried several times with short strings that can be proven whether the function is finding correct answer or not, our function has returned correct answer for all different inputs. Since we have conditioned the input that all strings can only contain the letters of English alphabet it also makes sure that we have a correct input. Howewer, the dynamic algorithm finds the longest subsequence really quick even for the string that has a really long length.\n",
    "\n",
    "4. What is its runtime complexity?\n",
    "\n",
    "### Consideration:\n",
    "We have tried the dynamic algorithm with different strings that have really long length but the algorithm has returned the result quickly since it has the O(mn) runtime complexity.\n",
    "\n",
    "Credit to: Back To Back SWE https://www.youtube.com/watch?v=ASoaQq66foQ"
   ]
  },
  {
   "cell_type": "code",
   "execution_count": null,
   "metadata": {},
   "outputs": [],
   "source": []
  }
 ],
 "metadata": {
  "kernelspec": {
   "display_name": "Python 3",
   "language": "python",
   "name": "python3"
  },
  "language_info": {
   "codemirror_mode": {
    "name": "ipython",
    "version": 3
   },
   "file_extension": ".py",
   "mimetype": "text/x-python",
   "name": "python",
   "nbconvert_exporter": "python",
   "pygments_lexer": "ipython3",
   "version": "3.8.3"
  }
 },
 "nbformat": 4,
 "nbformat_minor": 2
}
